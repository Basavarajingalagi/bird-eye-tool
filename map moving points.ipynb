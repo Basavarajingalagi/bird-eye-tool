{
 "cells": [
  {
   "cell_type": "markdown",
   "metadata": {
    "colab_type": "text",
    "id": "V8-yl-s-WKMG"
   },
   "source": [
    "# Object Detection API Demo\n",
    "\n",
    "<table align=\"left\"><td>\n",
    "  <a target=\"_blank\"  href=\"https://github.com/tensorflow/models/blob/master/research/object_detection/object_detection_tutorial.ipynb\">\n",
    "    <img src=\"https://www.tensorflow.org/images/colab_logo_32px.png\" />Run in Google Colab\n",
    "  </a>\n",
    "</td><td>\n",
    "  <a target=\"_blank\"  href=\"https://colab.sandbox.google.com/github/tensorflow/models/blob/master/research/object_detection/object_detection_tutorial.ipynb\">\n",
    "    <img width=32px src=\"https://www.tensorflow.org/images/GitHub-Mark-32px.png\" />View source on GitHub</a>\n",
    "</td></table>"
   ]
  },
  {
   "cell_type": "markdown",
   "metadata": {
    "colab_type": "text",
    "id": "3cIrseUv6WKz"
   },
   "source": [
    "Welcome to the [Object Detection API](https://github.com/tensorflow/models/tree/master/research/object_detection). This notebook will walk you step by step through the process of using a pre-trained model to detect objects in an image."
   ]
  },
  {
   "cell_type": "markdown",
   "metadata": {
    "colab_type": "text",
    "id": "VrJaG0cYN9yh"
   },
   "source": [
    "> **Important**: This tutorial is to help you through the first step towards using [Object Detection API](https://github.com/tensorflow/models/tree/master/research/object_detection) to build models. If you just just need an off the shelf model that does the job, see the [TFHub object detection example](https://colab.sandbox.google.com/github/tensorflow/hub/blob/master/examples/colab/object_detection.ipynb)."
   ]
  },
  {
   "cell_type": "markdown",
   "metadata": {
    "colab_type": "text",
    "id": "kFSqkTCdWKMI"
   },
   "source": [
    "# Setup"
   ]
  },
  {
   "cell_type": "markdown",
   "metadata": {
    "colab_type": "text",
    "id": "awjrpqy-6MaQ"
   },
   "source": [
    "Important: If you're running on a local machine, be sure to follow the [installation instructions](https://github.com/tensorflow/models/blob/master/research/object_detection/g3doc/installation.md). This notebook includes only what's necessary to run in Colab."
   ]
  },
  {
   "cell_type": "markdown",
   "metadata": {
    "colab_type": "text",
    "id": "p3UGXxUii5Ym"
   },
   "source": [
    "### Install"
   ]
  },
  {
   "cell_type": "code",
   "execution_count": 1,
   "metadata": {
    "colab": {},
    "colab_type": "code",
    "id": "hGL97-GXjSUw"
   },
   "outputs": [
    {
     "name": "stdout",
     "output_type": "stream",
     "text": [
      "Requirement already up-to-date: tensorflow==2.* in c:\\users\\lenovo\\appdata\\local\\programs\\python\\python37\\lib\\site-packages (2.0.0)\n",
      "Requirement already satisfied, skipping upgrade: grpcio>=1.8.6 in c:\\users\\lenovo\\appdata\\local\\programs\\python\\python37\\lib\\site-packages (from tensorflow==2.*) (1.25.0)\n",
      "Requirement already satisfied, skipping upgrade: absl-py>=0.7.0 in c:\\users\\lenovo\\appdata\\local\\programs\\python\\python37\\lib\\site-packages (from tensorflow==2.*) (0.8.1)\n",
      "Requirement already satisfied, skipping upgrade: six>=1.10.0 in c:\\users\\lenovo\\appdata\\local\\programs\\python\\python37\\lib\\site-packages (from tensorflow==2.*) (1.13.0)\n",
      "Requirement already satisfied, skipping upgrade: keras-preprocessing>=1.0.5 in c:\\users\\lenovo\\appdata\\local\\programs\\python\\python37\\lib\\site-packages (from tensorflow==2.*) (1.1.0)\n",
      "Requirement already satisfied, skipping upgrade: wheel>=0.26 in c:\\users\\lenovo\\appdata\\local\\programs\\python\\python37\\lib\\site-packages (from tensorflow==2.*) (0.33.6)\n",
      "Requirement already satisfied, skipping upgrade: tensorboard<2.1.0,>=2.0.0 in c:\\users\\lenovo\\appdata\\local\\programs\\python\\python37\\lib\\site-packages (from tensorflow==2.*) (2.0.2)\n",
      "Requirement already satisfied, skipping upgrade: termcolor>=1.1.0 in c:\\users\\lenovo\\appdata\\local\\programs\\python\\python37\\lib\\site-packages (from tensorflow==2.*) (1.1.0)\n",
      "Requirement already satisfied, skipping upgrade: numpy<2.0,>=1.16.0 in c:\\users\\lenovo\\appdata\\local\\programs\\python\\python37\\lib\\site-packages (from tensorflow==2.*) (1.17.4)\n",
      "Requirement already satisfied, skipping upgrade: google-pasta>=0.1.6 in c:\\users\\lenovo\\appdata\\local\\programs\\python\\python37\\lib\\site-packages (from tensorflow==2.*) (0.1.8)\n",
      "Requirement already satisfied, skipping upgrade: protobuf>=3.6.1 in c:\\users\\lenovo\\appdata\\local\\programs\\python\\python37\\lib\\site-packages (from tensorflow==2.*) (3.11.1)\n",
      "Requirement already satisfied, skipping upgrade: wrapt>=1.11.1 in c:\\users\\lenovo\\appdata\\local\\programs\\python\\python37\\lib\\site-packages (from tensorflow==2.*) (1.11.2)\n",
      "Requirement already satisfied, skipping upgrade: astor>=0.6.0 in c:\\users\\lenovo\\appdata\\local\\programs\\python\\python37\\lib\\site-packages (from tensorflow==2.*) (0.8.0)\n",
      "Requirement already satisfied, skipping upgrade: keras-applications>=1.0.8 in c:\\users\\lenovo\\appdata\\local\\programs\\python\\python37\\lib\\site-packages (from tensorflow==2.*) (1.0.8)\n",
      "Requirement already satisfied, skipping upgrade: tensorflow-estimator<2.1.0,>=2.0.0 in c:\\users\\lenovo\\appdata\\local\\programs\\python\\python37\\lib\\site-packages (from tensorflow==2.*) (2.0.1)\n",
      "Requirement already satisfied, skipping upgrade: opt-einsum>=2.3.2 in c:\\users\\lenovo\\appdata\\local\\programs\\python\\python37\\lib\\site-packages (from tensorflow==2.*) (3.1.0)\n",
      "Requirement already satisfied, skipping upgrade: gast==0.2.2 in c:\\users\\lenovo\\appdata\\local\\programs\\python\\python37\\lib\\site-packages (from tensorflow==2.*) (0.2.2)\n",
      "Requirement already satisfied, skipping upgrade: google-auth<2,>=1.6.3 in c:\\users\\lenovo\\appdata\\local\\programs\\python\\python37\\lib\\site-packages (from tensorboard<2.1.0,>=2.0.0->tensorflow==2.*) (1.7.1)\n",
      "Requirement already satisfied, skipping upgrade: markdown>=2.6.8 in c:\\users\\lenovo\\appdata\\local\\programs\\python\\python37\\lib\\site-packages (from tensorboard<2.1.0,>=2.0.0->tensorflow==2.*) (3.1.1)\n",
      "Requirement already satisfied, skipping upgrade: google-auth-oauthlib<0.5,>=0.4.1 in c:\\users\\lenovo\\appdata\\local\\programs\\python\\python37\\lib\\site-packages (from tensorboard<2.1.0,>=2.0.0->tensorflow==2.*) (0.4.1)\n",
      "Requirement already satisfied, skipping upgrade: requests<3,>=2.21.0 in c:\\users\\lenovo\\appdata\\local\\programs\\python\\python37\\lib\\site-packages (from tensorboard<2.1.0,>=2.0.0->tensorflow==2.*) (2.22.0)\n",
      "Requirement already satisfied, skipping upgrade: setuptools>=41.0.0 in c:\\users\\lenovo\\appdata\\local\\programs\\python\\python37\\lib\\site-packages (from tensorboard<2.1.0,>=2.0.0->tensorflow==2.*) (42.0.2)\n",
      "Requirement already satisfied, skipping upgrade: werkzeug>=0.11.15 in c:\\users\\lenovo\\appdata\\local\\programs\\python\\python37\\lib\\site-packages (from tensorboard<2.1.0,>=2.0.0->tensorflow==2.*) (0.16.0)\n",
      "Requirement already satisfied, skipping upgrade: h5py in c:\\users\\lenovo\\appdata\\local\\programs\\python\\python37\\lib\\site-packages (from keras-applications>=1.0.8->tensorflow==2.*) (2.10.0)\n",
      "Requirement already satisfied, skipping upgrade: pyasn1-modules>=0.2.1 in c:\\users\\lenovo\\appdata\\local\\programs\\python\\python37\\lib\\site-packages (from google-auth<2,>=1.6.3->tensorboard<2.1.0,>=2.0.0->tensorflow==2.*) (0.2.7)\n",
      "Requirement already satisfied, skipping upgrade: rsa<4.1,>=3.1.4 in c:\\users\\lenovo\\appdata\\local\\programs\\python\\python37\\lib\\site-packages (from google-auth<2,>=1.6.3->tensorboard<2.1.0,>=2.0.0->tensorflow==2.*) (4.0)\n",
      "Requirement already satisfied, skipping upgrade: cachetools<3.2,>=2.0.0 in c:\\users\\lenovo\\appdata\\local\\programs\\python\\python37\\lib\\site-packages (from google-auth<2,>=1.6.3->tensorboard<2.1.0,>=2.0.0->tensorflow==2.*) (3.1.1)\n",
      "Requirement already satisfied, skipping upgrade: requests-oauthlib>=0.7.0 in c:\\users\\lenovo\\appdata\\local\\programs\\python\\python37\\lib\\site-packages (from google-auth-oauthlib<0.5,>=0.4.1->tensorboard<2.1.0,>=2.0.0->tensorflow==2.*) (1.3.0)\n",
      "Requirement already satisfied, skipping upgrade: urllib3!=1.25.0,!=1.25.1,<1.26,>=1.21.1 in c:\\users\\lenovo\\appdata\\local\\programs\\python\\python37\\lib\\site-packages (from requests<3,>=2.21.0->tensorboard<2.1.0,>=2.0.0->tensorflow==2.*) (1.25.7)\n",
      "Requirement already satisfied, skipping upgrade: certifi>=2017.4.17 in c:\\users\\lenovo\\appdata\\local\\programs\\python\\python37\\lib\\site-packages (from requests<3,>=2.21.0->tensorboard<2.1.0,>=2.0.0->tensorflow==2.*) (2019.11.28)\n",
      "Requirement already satisfied, skipping upgrade: idna<2.9,>=2.5 in c:\\users\\lenovo\\appdata\\local\\programs\\python\\python37\\lib\\site-packages (from requests<3,>=2.21.0->tensorboard<2.1.0,>=2.0.0->tensorflow==2.*) (2.8)\n",
      "Requirement already satisfied, skipping upgrade: chardet<3.1.0,>=3.0.2 in c:\\users\\lenovo\\appdata\\local\\programs\\python\\python37\\lib\\site-packages (from requests<3,>=2.21.0->tensorboard<2.1.0,>=2.0.0->tensorflow==2.*) (3.0.4)\n",
      "Requirement already satisfied, skipping upgrade: pyasn1<0.5.0,>=0.4.6 in c:\\users\\lenovo\\appdata\\local\\programs\\python\\python37\\lib\\site-packages (from pyasn1-modules>=0.2.1->google-auth<2,>=1.6.3->tensorboard<2.1.0,>=2.0.0->tensorflow==2.*) (0.4.8)\n",
      "Requirement already satisfied, skipping upgrade: oauthlib>=3.0.0 in c:\\users\\lenovo\\appdata\\local\\programs\\python\\python37\\lib\\site-packages (from requests-oauthlib>=0.7.0->google-auth-oauthlib<0.5,>=0.4.1->tensorboard<2.1.0,>=2.0.0->tensorflow==2.*) (3.1.0)\n"
     ]
    },
    {
     "name": "stderr",
     "output_type": "stream",
     "text": [
      "WARNING: Retrying (Retry(total=4, connect=None, read=None, redirect=None, status=None)) after connection broken by 'NewConnectionError('<pip._vendor.urllib3.connection.VerifiedHTTPSConnection object at 0x00000210EB005188>: Failed to establish a new connection: [Errno 11001] getaddrinfo failed')': /simple/tensorflow/\n",
      "WARNING: Retrying (Retry(total=3, connect=None, read=None, redirect=None, status=None)) after connection broken by 'NewConnectionError('<pip._vendor.urllib3.connection.VerifiedHTTPSConnection object at 0x00000210EB003688>: Failed to establish a new connection: [Errno 11001] getaddrinfo failed')': /simple/tensorflow/\n",
      "WARNING: Retrying (Retry(total=2, connect=None, read=None, redirect=None, status=None)) after connection broken by 'NewConnectionError('<pip._vendor.urllib3.connection.VerifiedHTTPSConnection object at 0x00000210EB0036C8>: Failed to establish a new connection: [Errno 11001] getaddrinfo failed')': /simple/tensorflow/\n",
      "WARNING: Retrying (Retry(total=1, connect=None, read=None, redirect=None, status=None)) after connection broken by 'NewConnectionError('<pip._vendor.urllib3.connection.VerifiedHTTPSConnection object at 0x00000210EB003D48>: Failed to establish a new connection: [Errno 11001] getaddrinfo failed')': /simple/tensorflow/\n",
      "WARNING: Retrying (Retry(total=0, connect=None, read=None, redirect=None, status=None)) after connection broken by 'NewConnectionError('<pip._vendor.urllib3.connection.VerifiedHTTPSConnection object at 0x00000210EB003308>: Failed to establish a new connection: [Errno 11001] getaddrinfo failed')': /simple/tensorflow/\n"
     ]
    }
   ],
   "source": [
    "!pip install -U --pre tensorflow==\"2.*\""
   ]
  },
  {
   "cell_type": "markdown",
   "metadata": {
    "colab_type": "text",
    "id": "n_ap_s9ajTHH"
   },
   "source": [
    "Make sure you have `pycocotools` installed"
   ]
  },
  {
   "cell_type": "code",
   "execution_count": 2,
   "metadata": {
    "colab": {},
    "colab_type": "code",
    "id": "Bg8ZyA47i3pY"
   },
   "outputs": [
    {
     "name": "stderr",
     "output_type": "stream",
     "text": [
      "WARNING: Retrying (Retry(total=4, connect=None, read=None, redirect=None, status=None)) after connection broken by 'NewConnectionError('<pip._vendor.urllib3.connection.VerifiedHTTPSConnection object at 0x000001A040583B08>: Failed to establish a new connection: [Errno 11001] getaddrinfo failed')': /simple/pycocotools/\n",
      "WARNING: Retrying (Retry(total=3, connect=None, read=None, redirect=None, status=None)) after connection broken by 'NewConnectionError('<pip._vendor.urllib3.connection.VerifiedHTTPSConnection object at 0x000001A040581A48>: Failed to establish a new connection: [Errno 11001] getaddrinfo failed')': /simple/pycocotools/\n",
      "WARNING: Retrying (Retry(total=2, connect=None, read=None, redirect=None, status=None)) after connection broken by 'NewConnectionError('<pip._vendor.urllib3.connection.VerifiedHTTPSConnection object at 0x000001A040581B08>: Failed to establish a new connection: [Errno 11001] getaddrinfo failed')': /simple/pycocotools/\n",
      "WARNING: Retrying (Retry(total=1, connect=None, read=None, redirect=None, status=None)) after connection broken by 'NewConnectionError('<pip._vendor.urllib3.connection.VerifiedHTTPSConnection object at 0x000001A040581508>: Failed to establish a new connection: [Errno 11001] getaddrinfo failed')': /simple/pycocotools/\n",
      "WARNING: Retrying (Retry(total=0, connect=None, read=None, redirect=None, status=None)) after connection broken by 'NewConnectionError('<pip._vendor.urllib3.connection.VerifiedHTTPSConnection object at 0x000001A040581708>: Failed to establish a new connection: [Errno 11001] getaddrinfo failed')': /simple/pycocotools/\n",
      "ERROR: Could not find a version that satisfies the requirement pycocotools (from versions: none)\n",
      "ERROR: No matching distribution found for pycocotools\n"
     ]
    }
   ],
   "source": [
    "!pip install pycocotools"
   ]
  },
  {
   "cell_type": "markdown",
   "metadata": {
    "colab_type": "text",
    "id": "-vsOL3QR6kqs"
   },
   "source": [
    "Get `tensorflow/models` or `cd` to parent directory of the repository."
   ]
  },
  {
   "cell_type": "code",
   "execution_count": 1,
   "metadata": {
    "colab": {},
    "colab_type": "code",
    "id": "ykA0c-om51s1"
   },
   "outputs": [
    {
     "name": "stderr",
     "output_type": "stream",
     "text": [
      "'git' is not recognized as an internal or external command,\n",
      "operable program or batch file.\n"
     ]
    }
   ],
   "source": [
    "import os\n",
    "import pathlib\n",
    "\n",
    "\n",
    "if \"models\" in pathlib.Path.cwd().parts:\n",
    "  while \"models\" in pathlib.Path.cwd().parts:\n",
    "    os.chdir('..')\n",
    "elif not pathlib.Path('models').exists():\n",
    "  !git clone --depth 1 https://github.com/tensorflow/models"
   ]
  },
  {
   "cell_type": "markdown",
   "metadata": {
    "colab_type": "text",
    "id": "O219m6yWAj9l"
   },
   "source": [
    "Compile protobufs and install the object_detection package"
   ]
  },
  {
   "cell_type": "code",
   "execution_count": 2,
   "metadata": {
    "colab": {},
    "colab_type": "code",
    "id": "PY41vdYYNlXc"
   },
   "outputs": [
    {
     "name": "stdout",
     "output_type": "stream",
     "text": [
      "Couldn't find program: 'bash'\n"
     ]
    }
   ],
   "source": [
    "%%bash\n",
    "cd models/research/\n",
    "protoc object_detection/protos/*.proto --python_out=."
   ]
  },
  {
   "cell_type": "code",
   "execution_count": 3,
   "metadata": {
    "colab": {},
    "colab_type": "code",
    "id": "s62yJyQUcYbp"
   },
   "outputs": [
    {
     "name": "stdout",
     "output_type": "stream",
     "text": [
      "Couldn't find program: 'bash'\n"
     ]
    }
   ],
   "source": [
    "%%bash \n",
    "cd models/research\n",
    "pip install ."
   ]
  },
  {
   "cell_type": "markdown",
   "metadata": {
    "colab_type": "text",
    "id": "LBdjK2G5ywuc"
   },
   "source": [
    "### Imports"
   ]
  },
  {
   "cell_type": "code",
   "execution_count": 4,
   "metadata": {
    "colab": {},
    "colab_type": "code",
    "id": "hV4P5gyTWKMI"
   },
   "outputs": [],
   "source": [
    "import numpy as np\n",
    "import os\n",
    "import six.moves.urllib as urllib\n",
    "import sys\n",
    "import tarfile\n",
    "import tensorflow as tf\n",
    "import zipfile\n",
    "\n",
    "from collections import defaultdict\n",
    "from io import StringIO\n",
    "from matplotlib import pyplot as plt\n",
    "from PIL import Image\n",
    "from IPython.display import display\n",
    "from collections import Counter"
   ]
  },
  {
   "cell_type": "markdown",
   "metadata": {
    "colab_type": "text",
    "id": "r5FNuiRPWKMN"
   },
   "source": [
    "Import the object detection module."
   ]
  },
  {
   "cell_type": "code",
   "execution_count": 5,
   "metadata": {
    "colab": {},
    "colab_type": "code",
    "id": "4-IMl4b6BdGO"
   },
   "outputs": [],
   "source": [
    "from object_detection.utils import ops as utils_ops\n",
    "from object_detection.utils import label_map_util\n",
    "from object_detection.utils import visualization_utils as vis_util\n",
    "from object_detection.utils import visualization_utils1 as vis_util1"
   ]
  },
  {
   "cell_type": "markdown",
   "metadata": {
    "colab_type": "text",
    "id": "RYPCiag2iz_q"
   },
   "source": [
    "Patches:"
   ]
  },
  {
   "cell_type": "code",
   "execution_count": 6,
   "metadata": {
    "colab": {},
    "colab_type": "code",
    "id": "mF-YlMl8c_bM"
   },
   "outputs": [],
   "source": [
    "# patch tf1 into `utils.ops`\n",
    "utils_ops.tf = tf.compat.v1\n",
    "\n",
    "# Patch the location of gfile\n",
    "tf.gfile = tf.io.gfile"
   ]
  },
  {
   "cell_type": "markdown",
   "metadata": {
    "colab_type": "text",
    "id": "cfn_tRFOWKMO"
   },
   "source": [
    "# Model preparation "
   ]
  },
  {
   "cell_type": "markdown",
   "metadata": {
    "colab_type": "text",
    "id": "X_sEBLpVWKMQ"
   },
   "source": [
    "## Variables\n",
    "\n",
    "Any model exported using the `export_inference_graph.py` tool can be loaded here simply by changing the path.\n",
    "\n",
    "By default we use an \"SSD with Mobilenet\" model here. See the [detection model zoo](https://github.com/tensorflow/models/blob/master/research/object_detection/g3doc/detection_model_zoo.md) for a list of other models that can be run out-of-the-box with varying speeds and accuracies."
   ]
  },
  {
   "cell_type": "markdown",
   "metadata": {
    "colab_type": "text",
    "id": "7ai8pLZZWKMS"
   },
   "source": [
    "## Loader"
   ]
  },
  {
   "cell_type": "code",
   "execution_count": 7,
   "metadata": {
    "colab": {},
    "colab_type": "code",
    "id": "zm8xp-0eoItE"
   },
   "outputs": [],
   "source": [
    "def load_model(model_name):\n",
    "  base_url = 'http://download.tensorflow.org/models/object_detection/'\n",
    "  model_file = model_name + '.tar.gz'\n",
    "  model_dir = tf.keras.utils.get_file(\n",
    "    fname=model_name, \n",
    "    origin=base_url + model_file,\n",
    "    untar=True)\n",
    "\n",
    "  model_dir = pathlib.Path(model_dir)/\"saved_model\"\n",
    "\n",
    "  model = tf.saved_model.load(str(model_dir))\n",
    "  model = model.signatures['serving_default']\n",
    "\n",
    "  return model"
   ]
  },
  {
   "cell_type": "markdown",
   "metadata": {
    "colab_type": "text",
    "id": "_1MVVTcLWKMW"
   },
   "source": [
    "## Loading label map\n",
    "Label maps map indices to category names, so that when our convolution network predicts `5`, we know that this corresponds to `airplane`.  Here we use internal utility functions, but anything that returns a dictionary mapping integers to appropriate string labels would be fine"
   ]
  },
  {
   "cell_type": "code",
   "execution_count": 8,
   "metadata": {
    "colab": {},
    "colab_type": "code",
    "id": "hDbpHkiWWKMX"
   },
   "outputs": [],
   "source": [
    "# List of the strings that is used to add correct label for each box.\n",
    "PATH_TO_LABELS = r'F:\\models-master\\research\\object_detection\\data\\mscoco_label_map.pbtxt'\n",
    "#PATH_TO_LABELS = r'F:\\models-master\\research\\object_detection\\data\\mscoco_label_map.pbtxt'\n",
    "category_index = label_map_util.create_category_index_from_labelmap(PATH_TO_LABELS, use_display_name=True)"
   ]
  },
  {
   "cell_type": "markdown",
   "metadata": {
    "colab_type": "text",
    "id": "oVU3U_J6IJVb"
   },
   "source": [
    "For the sake of simplicity we will test on 2 images:"
   ]
  },
  {
   "cell_type": "code",
   "execution_count": 9,
   "metadata": {
    "colab": {},
    "colab_type": "code",
    "id": "jG-zn5ykWKMd"
   },
   "outputs": [
    {
     "data": {
      "text/plain": [
       "[WindowsPath('F:/cup and bottle/a.jpg'),\n",
       " WindowsPath('F:/cup and bottle/cup_img.jpg')]"
      ]
     },
     "execution_count": 9,
     "metadata": {},
     "output_type": "execute_result"
    }
   ],
   "source": [
    "# If you want to test the code with your images, just add path to the images to the TEST_IMAGE_PATHS.\n",
    "PATH_TO_TEST_IMAGES_DIR = pathlib.Path(r'F:\\cup and bottle')\n",
    "TEST_IMAGE_PATHS = sorted(list(PATH_TO_TEST_IMAGES_DIR.glob(\"*.jpg\")))\n",
    "TEST_IMAGE_PATHS"
   ]
  },
  {
   "cell_type": "markdown",
   "metadata": {
    "colab_type": "text",
    "id": "H0_1AGhrWKMc"
   },
   "source": [
    "# Detection"
   ]
  },
  {
   "cell_type": "markdown",
   "metadata": {
    "colab_type": "text",
    "id": "f7aOtOlebK7h"
   },
   "source": [
    "Load an object detection model:"
   ]
  },
  {
   "cell_type": "code",
   "execution_count": 10,
   "metadata": {
    "colab": {},
    "colab_type": "code",
    "id": "1XNT0wxybKR6"
   },
   "outputs": [
    {
     "name": "stdout",
     "output_type": "stream",
     "text": [
      "INFO:tensorflow:Saver not created because there are no variables in the graph to restore\n"
     ]
    }
   ],
   "source": [
    "model_name =  'ssd_mobilenet_v1_coco_2017_11_17'\n",
    "detection_model = load_model(model_name)"
   ]
  },
  {
   "cell_type": "code",
   "execution_count": 11,
   "metadata": {},
   "outputs": [],
   "source": [
    "#model_dir = "
   ]
  },
  {
   "cell_type": "code",
   "execution_count": 12,
   "metadata": {},
   "outputs": [],
   "source": [
    "#model = tf.saved_model.load(r\"F:\\faster_rcnn_resnet101_kitti_2017_11_08\\saved_model\")\n",
    "#detection_model = model.signatures['serving_default']"
   ]
  },
  {
   "cell_type": "markdown",
   "metadata": {
    "colab_type": "text",
    "id": "yN1AYfAEJIGp"
   },
   "source": [
    "Check the model's input signature, it expects a batch of 3-color images of type uint8: "
   ]
  },
  {
   "cell_type": "code",
   "execution_count": 13,
   "metadata": {
    "colab": {},
    "colab_type": "code",
    "id": "CK4cnry6wsHY"
   },
   "outputs": [
    {
     "name": "stdout",
     "output_type": "stream",
     "text": [
      "[<tf.Tensor 'image_tensor:0' shape=(None, None, None, 3) dtype=uint8>]\n"
     ]
    }
   ],
   "source": [
    "print(detection_model.inputs)"
   ]
  },
  {
   "cell_type": "markdown",
   "metadata": {
    "colab_type": "text",
    "id": "Q8u3BjpMJXZF"
   },
   "source": [
    "And retuns several outputs:"
   ]
  },
  {
   "cell_type": "code",
   "execution_count": 14,
   "metadata": {
    "colab": {},
    "colab_type": "code",
    "id": "oLSZpfaYwuSk"
   },
   "outputs": [
    {
     "data": {
      "text/plain": [
       "{'detection_scores': tf.float32,\n",
       " 'detection_classes': tf.float32,\n",
       " 'num_detections': tf.float32,\n",
       " 'detection_boxes': tf.float32}"
      ]
     },
     "execution_count": 14,
     "metadata": {},
     "output_type": "execute_result"
    }
   ],
   "source": [
    "detection_model.output_dtypes"
   ]
  },
  {
   "cell_type": "code",
   "execution_count": 15,
   "metadata": {
    "colab": {},
    "colab_type": "code",
    "id": "FZyKUJeuxvpT"
   },
   "outputs": [
    {
     "data": {
      "text/plain": [
       "{'detection_scores': TensorShape([None, 100]),\n",
       " 'detection_classes': TensorShape([None, 100]),\n",
       " 'num_detections': TensorShape([None]),\n",
       " 'detection_boxes': TensorShape([None, 100, 4])}"
      ]
     },
     "execution_count": 15,
     "metadata": {},
     "output_type": "execute_result"
    }
   ],
   "source": [
    "detection_model.output_shapes"
   ]
  },
  {
   "cell_type": "markdown",
   "metadata": {
    "colab_type": "text",
    "id": "JP5qZ7sXJpwG"
   },
   "source": [
    "Add a wrapper function to call the model, and cleanup the outputs:"
   ]
  },
  {
   "cell_type": "code",
   "execution_count": 18,
   "metadata": {
    "colab": {},
    "colab_type": "code",
    "id": "ajmR_exWyN76"
   },
   "outputs": [],
   "source": [
    "def run_inference_for_single_image(model, image):\n",
    "  image = np.asarray(image)\n",
    "  # The input needs to be a tensor, convert it using `tf.convert_to_tensor`.\n",
    "  input_tensor = tf.convert_to_tensor(image)\n",
    "  # The model expects a batch of images, so add an axis with `tf.newaxis`.\n",
    "  input_tensor = input_tensor[tf.newaxis,...]\n",
    "\n",
    "  # Run inference\n",
    "  output_dict = model(input_tensor)\n",
    "\n",
    "  # All outputs are batches tensors.\n",
    "  # Convert to numpy arrays, and take index [0] to remove the batch dimension.\n",
    "  # We're only interested in the first num_detections.\n",
    "  num_detections = int(output_dict.pop('num_detections'))\n",
    "  output_dict = {key:value[0, :num_detections].numpy() \n",
    "                 for key,value in output_dict.items()}\n",
    "  output_dict['num_detections'] = num_detections\n",
    "\n",
    "  # detection_classes should be ints.\n",
    "  output_dict['detection_classes'] = output_dict['detection_classes'].astype(np.int64)\n",
    "   \n",
    "  # Handle models with masks:\n",
    "  if 'detection_masks' in output_dict:\n",
    "    # Reframe the the bbox mask to the image size.\n",
    "    detection_masks_reframed = utils_ops.reframe_box_masks_to_image_masks(\n",
    "              output_dict['detection_masks'], output_dict['detection_boxes'],\n",
    "               image.shape[0], image.shape[1])      \n",
    "    detection_masks_reframed = tf.cast(detection_masks_reframed > 0.5,\n",
    "                                       tf.uint8)\n",
    "    output_dict['detection_masks_reframed'] = detection_masks_reframed.numpy()\n",
    "    \n",
    "  return output_dict"
   ]
  },
  {
   "cell_type": "markdown",
   "metadata": {
    "colab_type": "text",
    "id": "z1wq0LVyMRR_"
   },
   "source": [
    "Run it on each test image and show the results:"
   ]
  },
  {
   "cell_type": "code",
   "execution_count": 16,
   "metadata": {},
   "outputs": [],
   "source": [
    "import cv2"
   ]
  },
  {
   "cell_type": "code",
   "execution_count": 22,
   "metadata": {},
   "outputs": [
    {
     "data": {
      "text/plain": [
       "\"\\nlgo_img =  cv2.imread('logo.jpeg',cv2.IMREAD_UNCHANGED)\\nscl = 20\\nw = int(lgo_img.shape[1] * scl / 100)\\nh = int(lgo_img.shape[0] * scl / 100)\\ndim = (w,h)\\nlgo = cv2.resize(lgo_img, dim, interpolation = cv2.INTER_AREA)\\nlH,lW = lgo.shape[:2]\\n\""
      ]
     },
     "execution_count": 22,
     "metadata": {},
     "output_type": "execute_result"
    }
   ],
   "source": [
    "'''\n",
    "lgo_img =  cv2.imread('logo.jpeg',cv2.IMREAD_UNCHANGED)\n",
    "scl = 20\n",
    "w = int(lgo_img.shape[1] * scl / 100)\n",
    "h = int(lgo_img.shape[0] * scl / 100)\n",
    "dim = (w,h)\n",
    "lgo = cv2.resize(lgo_img, dim, interpolation = cv2.INTER_AREA)\n",
    "lH,lW = lgo.shape[:2]\n",
    "'''"
   ]
  },
  {
   "cell_type": "code",
   "execution_count": 18,
   "metadata": {},
   "outputs": [],
   "source": [
    "src = np.float32([[394, 538], [41, 292], [285, 14], [425, 41]])\n",
    "dst = np.float32([[188, 486], [212, 298], [714, 317], [849, 475]])\n",
    "hexa, status = cv2.findHomography(src,dst)"
   ]
  },
  {
   "cell_type": "code",
   "execution_count": 30,
   "metadata": {},
   "outputs": [],
   "source": [
    "#secimg = cv2.imread(r'F:\\googlemap\\MSIL\\90\\cam16.jpg')\n",
    "#secimg = cv2.resize(secimg,(540,544))\n",
    "#cv2.imwrite(r'F:\\googlemap\\MSIL\\90\\as353.jpg',secimg)"
   ]
  },
  {
   "cell_type": "code",
   "execution_count": 19,
   "metadata": {},
   "outputs": [
    {
     "name": "stdout",
     "output_type": "stream",
     "text": [
      "pygame 1.9.6\n",
      "Hello from the pygame community. https://www.pygame.org/contribute.html\n"
     ]
    }
   ],
   "source": [
    "import cv2\n",
    "import pygame\n",
    "import time\n",
    "import math\n",
    "cap = cv2.VideoCapture(r\"F:\\googlemap\\MSIL\\birdeyetool\\cam15_Trim.mp4\")\n",
    "width = int(cap.get(3))\n",
    "height = int(cap.get(4))\n",
    "pygame.init()\n",
    "screen = pygame.display.set_mode([960,540])\n",
    "background = pygame.image.load(r'F:\\googlemap\\MSIL\\birdeyetool\\crop_destj.jpg')\n",
    "running = True"
   ]
  },
  {
   "cell_type": "code",
   "execution_count": 21,
   "metadata": {},
   "outputs": [
    {
     "name": "stdout",
     "output_type": "stream",
     "text": [
      "distance 47.4236228055175\n",
      "distance 6.324555320336759\n",
      "distance 7.280109889280518\n",
      "distance 9.055385138137417\n",
      "distance 10.04987562112089\n",
      "distance 10.04987562112089\n",
      "distance 11.045361017187261\n",
      "distance 14.035668847618199\n",
      "distance 13.0\n",
      "distance 17.0\n",
      "distance 18.027756377319946\n",
      "distance 41.048751503547585\n",
      "distance 27.202941017470888\n",
      "distance 27.202941017470888\n",
      "distance 18.027756377319946\n",
      "distance 41.048751503547585\n",
      "distance 27.202941017470888\n",
      "distance 27.202941017470888\n",
      "distance 17.0\n",
      "distance 21.02379604162864\n",
      "distance 23.08679276123039\n",
      "distance 25.179356624028344\n",
      "distance 25.079872407968907\n",
      "distance 25.079872407968907\n",
      "distance 25.019992006393608\n",
      "distance 24.08318915758459\n",
      "distance 25.079872407968907\n",
      "distance 26.076809620810597\n",
      "distance 41.182520563948\n",
      "distance 24.166091947189145\n",
      "distance 24.166091947189145\n",
      "distance 27.018512172212592\n",
      "distance 42.941821107167776\n",
      "distance 23.706539182259394\n",
      "distance 23.706539182259394\n",
      "distance 27.018512172212592\n",
      "distance 42.941821107167776\n",
      "distance 23.706539182259394\n",
      "distance 23.706539182259394\n",
      "distance 27.018512172212592\n",
      "distance 42.941821107167776\n",
      "distance 23.706539182259394\n",
      "distance 23.706539182259394\n",
      "distance 30.01666203960727\n",
      "distance 43.382023926967726\n",
      "distance 21.93171219946131\n",
      "distance 21.93171219946131\n",
      "distance 29.068883707497267\n",
      "distance 43.382023926967726\n",
      "distance 23.259406699226016\n",
      "distance 23.259406699226016\n",
      "distance 27.073972741361768\n",
      "distance 42.95346318982906\n",
      "distance 23.323807579381203\n",
      "distance 23.323807579381203\n",
      "distance 28.071337695236398\n",
      "distance 41.23105625617661\n",
      "distance 20.591260281974\n",
      "distance 20.591260281974\n",
      "distance 28.071337695236398\n",
      "distance 41.23105625617661\n",
      "distance 20.591260281974\n",
      "distance 20.591260281974\n",
      "distance 26.019223662515376\n",
      "distance 42.5440947723653\n",
      "distance 22.20360331117452\n",
      "distance 22.20360331117452\n",
      "distance 39.81205847478876\n",
      "distance 28.160255680657446\n",
      "distance 20.0\n",
      "distance 20.0\n",
      "distance 38.63935817272331\n",
      "distance 29.154759474226502\n",
      "distance 9.848857801796104\n",
      "distance 9.848857801796104\n",
      "distance 37.656340767525464\n",
      "distance 28.160255680657446\n",
      "distance 9.848857801796104\n",
      "distance 9.848857801796104\n",
      "distance 37.656340767525464\n",
      "distance 31.144823004794873\n",
      "distance 7.211102550927978\n",
      "distance 7.211102550927978\n",
      "distance 37.656340767525464\n",
      "distance 31.144823004794873\n",
      "distance 7.211102550927978\n",
      "distance 7.211102550927978\n",
      "distance 39.45883931389772\n",
      "distance 32.14031735997639\n",
      "distance 7.615773105863909\n",
      "distance 7.615773105863909\n",
      "distance 39.45883931389772\n",
      "distance 38.8329756778952\n",
      "distance 30.066592756745816\n",
      "distance 10.0\n",
      "distance 10.0\n",
      "distance 37.48332962798263\n",
      "distance 30.01666203960727\n",
      "distance 8.602325267042627\n",
      "distance 8.602325267042627\n",
      "distance 37.8549864614954\n",
      "distance 31.144823004794873\n",
      "distance 7.810249675906654\n",
      "distance 7.810249675906654\n",
      "distance 37.8549864614954\n",
      "distance 31.144823004794873\n",
      "distance 7.810249675906654\n",
      "distance 7.810249675906654\n",
      "distance 31.144823004794873\n",
      "distance 37.656340767525464\n",
      "distance 7.211102550927978\n",
      "distance 7.211102550927978\n",
      "distance 32.14031735997639\n",
      "distance 38.63935817272331\n",
      "distance 49.8196748283246\n",
      "distance 7.211102550927978\n",
      "distance 20.808652046684813\n",
      "distance 7.211102550927978\n",
      "distance 19.4164878389476\n",
      "distance 20.808652046684813\n",
      "distance 19.4164878389476\n",
      "distance 33.13608305156178\n",
      "distance 32.0624390837628\n",
      "distance 49.47726750741192\n",
      "distance 21.2602916254693\n",
      "distance 21.2602916254693\n",
      "distance 30.066592756745816\n",
      "distance 49.72926703662542\n",
      "distance 23.430749027719962\n",
      "distance 23.430749027719962\n",
      "distance 31.064449134018133\n",
      "distance 24.20743687382041\n",
      "distance 24.20743687382041\n",
      "distance 31.064449134018133\n",
      "distance 32.01562118716424\n",
      "distance 34.058772731852805\n",
      "distance 32.0624390837628\n",
      "distance 33.06055050963308\n",
      "distance 33.06055050963308\n",
      "distance 32.0624390837628\n",
      "distance 33.06055050963308\n",
      "distance 32.14031735997639\n",
      "distance 32.0624390837628\n",
      "distance 35.014282800023196\n",
      "distance 17.4928556845359\n",
      "distance 46.8187996428785\n",
      "distance 46.8187996428785\n",
      "distance 35.014282800023196\n",
      "distance 17.4928556845359\n",
      "distance 46.8187996428785\n",
      "distance 46.8187996428785\n",
      "distance 36.05551275463989\n",
      "distance 44.598206241955516\n",
      "distance 14.317821063276353\n",
      "distance 14.317821063276353\n",
      "distance 36.013886210738214\n",
      "distance 46.84015371452148\n",
      "distance 15.0\n",
      "distance 15.0\n",
      "distance 46.84015371452148\n",
      "distance 13.601470508735444\n",
      "distance 37.05401462729781\n",
      "distance 37.05401462729781\n",
      "distance 8.48528137423857\n",
      "distance 49.33558553417604\n",
      "distance 41.97618372363071\n",
      "distance 41.97618372363071\n",
      "distance 49.040799340956916\n",
      "distance 13.038404810405298\n",
      "distance 40.11234224026316\n",
      "distance 40.11234224026316\n",
      "distance 49.040799340956916\n",
      "distance 13.038404810405298\n",
      "distance 40.11234224026316\n",
      "distance 40.11234224026316\n",
      "distance 47.53945729601885\n",
      "distance 9.899494936611665\n",
      "distance 42.42640687119285\n",
      "distance 22.135943621178654\n",
      "distance 19.79898987322333\n",
      "distance 19.79898987322333\n",
      "distance 10.0\n",
      "distance 44.91102314577124\n",
      "distance 44.91102314577124\n",
      "distance 46.57252408878007\n",
      "distance 44.64302857109943\n",
      "distance 44.64302857109943\n",
      "distance 9.219544457292887\n",
      "distance 45.5411901469428\n",
      "distance 8.246211251235321\n",
      "distance 46.17358552246078\n",
      "distance 46.486557196677836\n",
      "distance 8.54400374531753\n",
      "distance 49.9799959983992\n",
      "distance 12.041594578792296\n",
      "distance 12.041594578792296\n",
      "distance 20.223748416156685\n",
      "distance 20.223748416156685\n",
      "distance 20.223748416156685\n",
      "distance 20.223748416156685\n",
      "distance 20.223748416156685\n",
      "distance 20.223748416156685\n",
      "distance 20.223748416156685\n",
      "distance 20.223748416156685\n"
     ]
    }
   ],
   "source": [
    "\n",
    "while True and running:\n",
    "    ret, image_np = cap.read()\n",
    "    image_np = cv2.resize(image_np,(480,540))\n",
    "      # Expand dimensions since the model expects images to have shape: [1, None, None, 3]\n",
    "    #image = np.asarray(image_np)\n",
    "  # The input needs to be a tensor, convert it using `tf.convert_to_tensor`.\n",
    "    input_tensor = tf.convert_to_tensor(image_np)\n",
    "  # The model expects a batch of images, so add an axis with `tf.newaxis`.\n",
    "    input_tensor = input_tensor[tf.newaxis,...]\n",
    "\n",
    "  # Run inference\n",
    "    output_dict = detection_model(input_tensor)\n",
    "\n",
    "  # All outputs are batches tensors.\n",
    "  # Convert to numpy arrays, and take index [0] to remove the batch dimension.\n",
    "  # We're only interested in the first num_detections.\n",
    "    num_detections = int(output_dict.pop('num_detections'))\n",
    "    output_dict = {key:value[0, :num_detections].numpy() \n",
    "                 for key,value in output_dict.items()}\n",
    "    output_dict['num_detections'] = num_detections\n",
    "\n",
    "  # detection_classes should be ints.\n",
    "    output_dict['detection_classes'] = output_dict['detection_classes'].astype(np.int64)\n",
    "      # Visualization of the results of a detection.\n",
    "    image,boxes,classname,classes = vis_util1.visualize_boxes_and_labels_on_image_array(\n",
    "      image_np,\n",
    "      output_dict['detection_boxes'],\n",
    "      output_dict['detection_classes'],\n",
    "      output_dict['detection_scores'],\n",
    "      category_index,\n",
    "      instance_masks=output_dict.get('detection_masks_reframed', None),\n",
    "      use_normalized_coordinates=True,\n",
    "      min_score_thresh=0.3,\n",
    "      line_thickness=2)\n",
    "    \n",
    "    width = 480\n",
    "    height = 540\n",
    "    #print(boxes)\n",
    "    center = []\n",
    "    new_box= []\n",
    "    for j in boxes:\n",
    "        left =  int(j[1]*width)\n",
    "        bottom = int(j[2]*height)\n",
    "        right =int(j[3]*width)\n",
    "        top = int(j[0]*height)\n",
    "        val = (left,right,top, bottom)\n",
    "        \n",
    "        x = int((left+right)/2.0)\n",
    "        y = int((top+bottom)/2.0)\n",
    "        centr = (x,y)\n",
    "        new_box.append(val)\n",
    "        center.append(centr)\n",
    "\n",
    "    #print(new_box)\n",
    "    social_distance_violations = []\n",
    "    distance_dict = {}\n",
    "    for i in range(len(center)):\n",
    "        for j in range(1, len(center)):\n",
    "            d = (center[i][0]-center[j][0])**2 + (center[i][1]-center[j][1])**2\n",
    "            dis = float(math.sqrt(d)) \n",
    "            if dis < 50 and dis > 0:\n",
    "               # print(\"distance\", dis)\n",
    "                distance_dict[(new_box[i],new_box[j])] = dis\n",
    "                social_distance_violations.append(new_box[i])\n",
    "                social_distance_violations.append(new_box[j])\n",
    "        \n",
    "    social_distance_violations = list(set(social_distance_violations))\n",
    "    #print(social_distance_violations)        \n",
    "        \n",
    "\n",
    "    for i in range(len(social_distance_violations)):\n",
    "        start_point = (social_distance_violations[i][0], social_distance_violations[i][2])\n",
    "        end_point = (social_distance_violations[i][1], social_distance_violations[i][3]) \n",
    "        color = (0, 0, 255)\n",
    "        thickness = 3\n",
    "        image = cv2.rectangle(image_np, start_point, end_point, color, thickness)        \n",
    "        \n",
    "        \n",
    "        \n",
    "    new_match = []\n",
    "    for i in social_distance_violations:\n",
    "        match = []\n",
    "        for j in distance_dict:\n",
    "                            \n",
    "            if i in j:\n",
    "                o,k = j\n",
    "                if len(new_match)>0:\n",
    "                    n = 0\n",
    "                    for ii in new_match:\n",
    "                        if o in ii or k in ii:\n",
    "                            n+=1\n",
    "\n",
    "                                                \n",
    "                    if n == 0:\n",
    "                        match.append(o)\n",
    "                        match.append(k)\n",
    "                                            \n",
    "                else:\n",
    "                    match.append(o)\n",
    "                    match.append(k)\n",
    "\n",
    "        if len(match)>0:\n",
    "            match = list(set(match))\n",
    "\n",
    "            new_match.append(match)\n",
    "\n",
    "\n",
    "    #print(new_match)\n",
    "\n",
    "   # print(len(new_match))\n",
    "                \n",
    "\n",
    "    points =[]\n",
    "    for i in new_match:\n",
    "        temp =[]\n",
    "        for j in i:\n",
    "            x,y,w,h = j\n",
    "            centr_x = (x+y)/2\n",
    "            centr_y = (w+h)/2\n",
    "\n",
    "            center_ = [centr_x,centr_y]\n",
    "            temp.append(center_)\n",
    "        points.append(temp)\n",
    "\n",
    "    #print(points)\n",
    "\n",
    "    newcentroid = []\n",
    "    for i in points:\n",
    "        X = []\n",
    "        Y = []\n",
    "        for j in i:\n",
    "            x,y = j\n",
    "            X.append(x)\n",
    "            Y.append(y)\n",
    "        a = sum(X)/len(X)\n",
    "        b = sum(Y)/len(Y)\n",
    "        newcentroid.append((int(a),int(b)))\n",
    "    #print(\"newcentroid\",newcentroid)\n",
    "\n",
    "                    \n",
    "    for i in newcentroid:\n",
    "        image = cv2.circle(image_np, i, 75, (255,0,0), 3)\n",
    "\n",
    "    groups = \"violated group {}\".format(len(new_match))\n",
    "    violated = 'Socialdistance violation {}'.format(len(social_distance_violations))\n",
    "    cv2.rectangle(image_np,(30,35),(50,50),(0, 0, 255),-1)\n",
    "    cv2.putText(image_np,violated ,(70,50), cv2.FONT_HERSHEY_SIMPLEX ,0.8, (0, 0, 255) ,1,cv2.LINE_AA)\n",
    "    cv2.putText(image_np,groups ,(70,80), cv2.FONT_HERSHEY_SIMPLEX ,0.8, (0, 0, 255) ,1,cv2.LINE_AA)\n",
    "   # image_np[475:475+lgo.shape[0], 10:10+lgo.shape[1]] = lgo   \n",
    "        \n",
    "        \n",
    "\n",
    "        \n",
    "\n",
    "\n",
    "\n",
    "\n",
    "    social_distance_violations_center = []\n",
    "    for i in range(len(center)):\n",
    "        for j in range(1, len(center)):\n",
    "            d = (center[i][0]-center[j][0])**2 + (center[i][1]-center[j][1])**2\n",
    "            dis = float(math.sqrt(d)) \n",
    "            if dis < 50 and dis > 0:\n",
    "                print(\"distance\", dis)\n",
    "                X_i,Y_i = center[i]\n",
    "                X_j,Y_j = center[j]\n",
    "                xi = (int(X_i/4),int(Y_i/4))\n",
    "                yi = (int(X_j/4),int(Y_j/4))\n",
    "                social_distance_violations_center.append(center[i])\n",
    "                social_distance_violations_center.append(center[j])\n",
    "    \n",
    "    social_distance_violations_center = list(set(social_distance_violations_center))\n",
    "    #print(social_distance_violations_center)\n",
    "    \n",
    "    #screen.fill((255, 255, 255))\n",
    "    \n",
    "\n",
    "        # Draw a solid blue circle in the center\n",
    "    screen.fill(pygame.Color(\"white\"))\n",
    "    screen.blit(background,(0,0))\n",
    "    for i in center:\n",
    "       # x,y = i\n",
    "      #  x= int(x/4)\n",
    "      #  y = int(y/4)\n",
    "       # i= (x,y)\n",
    "        if i in social_distance_violations_center:\n",
    "            i = list(i)\n",
    "            #print(i)\n",
    "            a = np.array([i], dtype='float32')\n",
    "            a = np.array([a])\n",
    "            pointsOut = cv2.perspectiveTransform(a, hexa)\n",
    "            pointsout = pointsOut[0][0]\n",
    "            point_x = int(pointsout[0])\n",
    "            point_y =  int(pointsout[1])\n",
    "            \n",
    "            circle_point = (point_x,point_y)\n",
    "            pygame.draw.circle(screen, (255, 0, 0), circle_point, 10)\n",
    "        else:\n",
    "            i = list(i)\n",
    "            a = np.array([i], dtype='float32')\n",
    "            a = np.array([a])\n",
    "            pointsOut = cv2.perspectiveTransform(a, hexa)\n",
    "            pointsout = pointsOut[0][0]\n",
    "            point_x = int(pointsout[0])\n",
    "            point_y = int(pointsout[1])\n",
    "            \n",
    "            circle_point = (point_x,point_y)\n",
    "\n",
    "            pygame.draw.circle(screen, (0, 0, 255), circle_point, 10)\n",
    "\n",
    "\n",
    "        # Flip the display\n",
    "        pygame.display.flip()\n",
    "            #time.sleep(2)\n",
    "        \n",
    "    cv2.imshow('object detection',image_np)\n",
    "    if cv2.waitKey(25) & 0xFF == ord('q'):\n",
    "        cv2.destroyAllWindows()\n",
    "        break       \n",
    "    \n",
    "        \n",
    "        \n",
    "\n",
    "pygame.quit()"
   ]
  },
  {
   "cell_type": "code",
   "execution_count": 25,
   "metadata": {},
   "outputs": [
    {
     "ename": "SyntaxError",
     "evalue": "invalid syntax (<ipython-input-25-c2ca2dec680a>, line 1)",
     "output_type": "error",
     "traceback": [
      "\u001b[1;36m  File \u001b[1;32m\"<ipython-input-25-c2ca2dec680a>\"\u001b[1;36m, line \u001b[1;32m1\u001b[0m\n\u001b[1;33m    .\u001b[0m\n\u001b[1;37m    ^\u001b[0m\n\u001b[1;31mSyntaxError\u001b[0m\u001b[1;31m:\u001b[0m invalid syntax\n"
     ]
    }
   ],
   "source": [
    ".\n",
    "v+"
   ]
  }
 ],
 "metadata": {
  "accelerator": "GPU",
  "colab": {
   "collapsed_sections": [],
   "last_runtime": {
    "build_target": "//learning/brain/python/client:colab_notebook",
    "kind": "private"
   },
   "name": "object_detection_tutorial.ipynb",
   "private_outputs": true,
   "provenance": [
    {
     "file_id": "1LNYL6Zsn9Xlil2CVNOTsgDZQSBKeOjCh",
     "timestamp": 1566498233247
    },
    {
     "file_id": "/piper/depot/google3/third_party/tensorflow_models/object_detection/object_detection_tutorial.ipynb?workspaceId=markdaoust:copybara_AFABFE845DCD573AD3D43A6BAFBE77D4_0::citc",
     "timestamp": 1566488313397
    },
    {
     "file_id": "/piper/depot/google3/third_party/py/tensorflow_docs/g3doc/en/r2/tutorials/generative/object_detection_tutorial.ipynb?workspaceId=markdaoust:copybara_AFABFE845DCD573AD3D43A6BAFBE77D4_0::citc",
     "timestamp": 1566145894046
    },
    {
     "file_id": "1nBPoWynOV0auSIy40eQcBIk9C6YRSkI8",
     "timestamp": 1566145841085
    },
    {
     "file_id": "/piper/depot/google3/third_party/tensorflow_models/object_detection/object_detection_tutorial.ipynb?workspaceId=markdaoust:copybara_AFABFE845DCD573AD3D43A6BAFBE77D4_0::citc",
     "timestamp": 1556295408037
    },
    {
     "file_id": "1layerger-51XwWOwYMY_5zHaCavCeQkO",
     "timestamp": 1556214267924
    },
    {
     "file_id": "/piper/depot/google3/third_party/tensorflow_models/object_detection/object_detection_tutorial.ipynb?workspaceId=markdaoust:copybara_AFABFE845DCD573AD3D43A6BAFBE77D4_0::citc",
     "timestamp": 1556207836484
    },
    {
     "file_id": "1w6mqQiNV3liPIX70NOgitOlDF1_4sRMw",
     "timestamp": 1556154824101
    },
    {
     "file_id": "https://github.com/tensorflow/models/blob/master/research/object_detection/object_detection_tutorial.ipynb",
     "timestamp": 1556150293326
    }
   ],
   "version": "0.3.2"
  },
  "kernelspec": {
   "display_name": "Python 3",
   "language": "python",
   "name": "python3"
  },
  "language_info": {
   "codemirror_mode": {
    "name": "ipython",
    "version": 3
   },
   "file_extension": ".py",
   "mimetype": "text/x-python",
   "name": "python",
   "nbconvert_exporter": "python",
   "pygments_lexer": "ipython3",
   "version": "3.7.4"
  }
 },
 "nbformat": 4,
 "nbformat_minor": 1
}
